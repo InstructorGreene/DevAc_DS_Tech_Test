{
 "cells": [
  {
   "cell_type": "markdown",
   "metadata": {},
   "source": [
    "#"
   ]
  },
  {
   "cell_type": "markdown",
   "metadata": {},
   "source": [
    "# Titanic assessment"
   ]
  },
  {
   "cell_type": "markdown",
   "metadata": {},
   "source": [
    "1. Importing data and python packages \n",
    "2. Assessing Data Quality and Missing Values \n",
    "3. Exploratory Analysis \n",
    "4. Logistic Regression"
   ]
  },
  {
   "cell_type": "markdown",
   "metadata": {},
   "source": [
    "### 1. Importing packages\n"
   ]
  },
  {
   "cell_type": "code",
   "execution_count": 1,
   "metadata": {},
   "outputs": [],
   "source": [
    "import numpy as np\n",
    "import pandas as pd \n",
    "\n",
    "# from this kaggle task: \n",
    "# https://www.kaggle.com/competitions/titanic/overview\n",
    "\n",
    "from sklearn import preprocessing \n",
    "import matplotlib.pyplot as plt\n",
    "from sklearn.model_selection import train_test_split\n",
    "from sklearn.preprocessing import StandardScaler\n",
    "from sklearn.linear_model import LogisticRegression\n",
    "from sklearn.linear_model import LinearRegression\n",
    "from sklearn.metrics import confusion_matrix \n",
    "import seaborn as sns\n",
    "from sklearn.metrics import accuracy_score \n",
    "from sklearn.metrics import roc_curve\n",
    "from sklearn.metrics import roc_auc_score\n",
    "from sklearn.metrics import f1_score\n",
    "\n",
    "\n",
    "\n"
   ]
  },
  {
   "cell_type": "markdown",
   "metadata": {},
   "source": [
    "CSV documents into dataframes"
   ]
  },
  {
   "cell_type": "code",
   "execution_count": 2,
   "metadata": {},
   "outputs": [],
   "source": [
    "test_df = pd.read_csv('test.csv')\n",
    "train_df = pd.read_csv('train.csv')\n",
    "gender_df = pd.read_csv('gender_submission.csv')"
   ]
  },
  {
   "cell_type": "markdown",
   "metadata": {},
   "source": [
    "### 2. Assessing data quality and Missing Values "
   ]
  },
  {
   "cell_type": "markdown",
   "metadata": {},
   "source": [
    "2.1 Training dataset"
   ]
  },
  {
   "cell_type": "code",
   "execution_count": 3,
   "metadata": {},
   "outputs": [
    {
     "data": {
      "text/plain": [
       "PassengerId      0\n",
       "Survived         0\n",
       "Pclass           0\n",
       "Name             0\n",
       "Sex              0\n",
       "Age            177\n",
       "SibSp            0\n",
       "Parch            0\n",
       "Ticket           0\n",
       "Fare             0\n",
       "Cabin          687\n",
       "Embarked         2\n",
       "dtype: int64"
      ]
     },
     "execution_count": 3,
     "metadata": {},
     "output_type": "execute_result"
    }
   ],
   "source": [
    "train_df.isnull().sum()"
   ]
  },
  {
   "cell_type": "code",
   "execution_count": 4,
   "metadata": {},
   "outputs": [
    {
     "name": "stdout",
     "output_type": "stream",
     "text": [
      "Percent of missing age records is 19.87%\n",
      "The median of the age records is: 28.0\n",
      "Percent of missing cabin records is 77.10%\n",
      "Percent of missing embarked records is 0.22%\n",
      "The most common vale for embarked data is: 0    S\n",
      "Name: Embarked, dtype: object\n"
     ]
    }
   ],
   "source": [
    "train_df['Age'].median()\n",
    "print('Percent of missing age records is %.2f%%'%((train_df['Age'].isnull().sum()/train_df.shape[0]*100)))\n",
    "print('The median of the age records is:', train_df['Age'].median())\n",
    "train_df['Cabin'].mode()\n",
    "print('Percent of missing cabin records is %.2f%%'%((train_df['Cabin'].isnull().sum()/train_df.shape[0]*100)))\n",
    "train_df['Embarked'].mode()\n",
    "print('Percent of missing embarked records is %.2f%%'%((train_df['Embarked'].isnull().sum()/train_df.shape[0]*100)))\n",
    "print('The most common vale for embarked data is:', train_df['Embarked'].mode())\n"
   ]
  },
  {
   "cell_type": "markdown",
   "metadata": {},
   "source": [
    "###### We can replace age and the embarked data with the most common values and the median. However, for the cabin data as 77% of the data is missing therefore I will remove this column and ignore it in my data analysis"
   ]
  },
  {
   "cell_type": "markdown",
   "metadata": {},
   "source": [
    "Replacing missing values for 'Age' and 'Embarked' column"
   ]
  },
  {
   "cell_type": "code",
   "execution_count": 5,
   "metadata": {},
   "outputs": [
    {
     "data": {
      "text/plain": [
       "PassengerId    0\n",
       "Survived       0\n",
       "Pclass         0\n",
       "Name           0\n",
       "Sex            0\n",
       "Age            0\n",
       "SibSp          0\n",
       "Parch          0\n",
       "Ticket         0\n",
       "Fare           0\n",
       "Embarked       0\n",
       "dtype: int64"
      ]
     },
     "execution_count": 5,
     "metadata": {},
     "output_type": "execute_result"
    }
   ],
   "source": [
    "train_ad=train_df.copy()\n",
    "#Replacing missing age values with the median\n",
    "train_ad['Age']=train_df['Age'].fillna(train_df['Age'].median()) #Replace Nas wih the median age \n",
    "#Replacing missing Embarked values with the mode \n",
    "train_ad['Embarked']=train_df['Embarked'].fillna(train_df['Embarked'].value_counts().idxmax()) #Replace Nas with the most common value \n",
    "train_ad.isnull().sum()\n",
    "#Removing the cabin column from the data set \n",
    "train_ad.drop('Cabin', axis=1, inplace = True) #Remove the cabin column from the new data set \n",
    "train_ad.isnull().sum()\n"
   ]
  },
  {
   "cell_type": "code",
   "execution_count": 6,
   "metadata": {},
   "outputs": [
    {
     "data": {
      "image/png": "[encoded data removed]",
      "text/plain": [
       "<Figure size 432x288 with 1 Axes>"
      ]
     },
     "metadata": {
      "needs_background": "light"
     },
     "output_type": "display_data"
    }
   ],
   "source": [
    "fig, ax=plt.subplots()\n",
    "\n",
    "ax=train_df['Age'].hist(bins=15, density = True, stacked = True, color='teal',alpha=0.6)\n",
    "train_df['Age'].plot(kind='density', color='teal')\n",
    "ax=train_df['Age'].hist(bins =15, density = True, stacked= True, color='orange',alpha=0.5)\n",
    "train_ad['Age'].plot(kind = 'density', color='orange')\n",
    "ax.legend(['Raw Age','Adjusted Age'])\n",
    "ax.set(xlabel='Age')\n",
    "ax.set_title('Raw Age vs Adjusted Age for the training dataset')\n",
    "plt.xlim(-10,85)\n",
    "plt.show()\n",
    "\n",
    "\n",
    "\n"
   ]
  },
  {
   "cell_type": "markdown",
   "metadata": {},
   "source": [
    "###### The above graph shows us that replacing the missing values in the age column with the median age (28) doesn't change significantly the shape of the density plot. The main change is at the level of the median age which is normal as for the adjusted age there are more median age values."
   ]
  },
  {
   "cell_type": "markdown",
   "metadata": {},
   "source": [
    "2.2 Test dataset"
   ]
  },
  {
   "cell_type": "code",
   "execution_count": 7,
   "metadata": {},
   "outputs": [
    {
     "data": {
      "text/plain": [
       "PassengerId    0\n",
       "Pclass         0\n",
       "Name           0\n",
       "Sex            0\n",
       "Age            0\n",
       "SibSp          0\n",
       "Parch          0\n",
       "Ticket         0\n",
       "Fare           1\n",
       "Embarked       0\n",
       "dtype: int64"
      ]
     },
     "execution_count": 7,
     "metadata": {},
     "output_type": "execute_result"
    }
   ],
   "source": [
    "test_df.isnull().sum()\n",
    "test_ad=test_df.copy()\n",
    "#Replacing missing age values with the median\n",
    "test_ad['Age']=test_df['Age'].fillna(test_df['Age'].median()) #Replace Nas wih the median age \n",
    "#Replacing Embarked missing values with the most common feature\n",
    "test_ad['Embarked']=test_df['Embarked'].fillna(test_df['Embarked'].value_counts().idxmax()) #Replace Nas with the most common value \n",
    "\n",
    "test_ad.drop('Cabin', axis=1, inplace = True)\n",
    "test_ad.isnull().sum()\n"
   ]
  },
  {
   "cell_type": "markdown",
   "metadata": {},
   "source": [
    "###### In the test data there is also one fare that is missing"
   ]
  },
  {
   "cell_type": "code",
   "execution_count": 8,
   "metadata": {},
   "outputs": [
    {
     "name": "stdout",
     "output_type": "stream",
     "text": [
      "Percentage of missing fare is 0.24%\n",
      "The median Fare is: 14.4542\n"
     ]
    },
    {
     "data": {
      "text/plain": [
       "PassengerId    0\n",
       "Pclass         0\n",
       "Name           0\n",
       "Sex            0\n",
       "Age            0\n",
       "SibSp          0\n",
       "Parch          0\n",
       "Ticket         0\n",
       "Fare           0\n",
       "Embarked       0\n",
       "dtype: int64"
      ]
     },
     "execution_count": 8,
     "metadata": {},
     "output_type": "execute_result"
    }
   ],
   "source": [
    "print('Percentage of missing fare is %.2f%%'%(test_df['Fare'].isnull().sum()/test_df.shape[0]*100))\n",
    "test_df['Fare'].median()\n",
    "print('The median Fare is:',test_df['Fare'].median())\n",
    "test_ad['Fare']=test_df['Fare'].fillna(test_df['Fare'].median())\n",
    "test_ad.isnull().sum()"
   ]
  },
  {
   "cell_type": "markdown",
   "metadata": {},
   "source": [
    "### 3. Exploratory analysis"
   ]
  },
  {
   "cell_type": "markdown",
   "metadata": {},
   "source": [
    "3.1 Survival vs age "
   ]
  },
  {
   "cell_type": "code",
   "execution_count": 9,
   "metadata": {},
   "outputs": [
    {
     "data": {
      "text/plain": [
       "Text(0.5, 1.0, 'Density plot demonstrating survival rates depending on age of passengers')"
      ]
     },
     "execution_count": 9,
     "metadata": {},
     "output_type": "execute_result"
    },
    {
     "data": {
      "image/png": "[encoded data removed]",
      "text/plain": [
       "<Figure size 432x288 with 1 Axes>"
      ]
     },
     "metadata": {
      "needs_background": "light"
     },
     "output_type": "display_data"
    }
   ],
   "source": [
    "# Survived vs Age \n",
    "#Survived vs Sex\n",
    "#Survived vs Fare \n",
    "#Survived vs PClass\n",
    "\n",
    "#Survived vs age \n",
    "\n",
    "\n",
    "#Rate of Survival for age data\n",
    "ax=sns.kdeplot(train_ad['Age'][train_ad.Survived==1],color='pink')\n",
    "ax=sns.kdeplot(train_ad['Age'][train_ad.Survived ==0], color='blue')\n",
    "plt.legend(['Survived','Died'])\n",
    "plt.title('Density plot demonstrating survival rates depending on age of passengers')\n",
    "\n"
   ]
  },
  {
   "cell_type": "markdown",
   "metadata": {},
   "source": [
    "###### What can be seen from the data is that young people under the age of approx 16 years old had higher survival rates compared to the rest of the population"
   ]
  },
  {
   "cell_type": "markdown",
   "metadata": {},
   "source": [
    "3.2 Survival vs Ticket fare "
   ]
  },
  {
   "cell_type": "code",
   "execution_count": 10,
   "metadata": {},
   "outputs": [
    {
     "data": {
      "image/png": "[encoded data removed]",
      "text/plain": [
       "<Figure size 432x288 with 1 Axes>"
      ]
     },
     "metadata": {
      "needs_background": "light"
     },
     "output_type": "display_data"
    }
   ],
   "source": [
    "#Survived vs price of ticket \n",
    "ax=sns.kdeplot(train_ad['Fare'][train_ad.Survived==1],color='pink')\n",
    "ax=sns.kdeplot(train_ad['Fare'][train_ad.Survived==0], color='blue')\n",
    "plt.legend(['Survived','Died'])\n",
    "plt.xlim(-20,200)\n",
    "\n",
    "\n",
    "Pcclass=train_ad.loc[train_ad['Pclass']==3]\n",
    "Pcclass=Pcclass['Fare'].max() \n",
    "\n",
    "\n",
    "\n",
    "\n"
   ]
  },
  {
   "cell_type": "markdown",
   "metadata": {},
   "source": [
    "###### The minimum price for all the 3 classes is 0 --> could reduce the predictive power of the model if I add this column in my logistic regression\n",
    "###### The maximum price for class 1 is 512, max for class 2 is 73 and max for class 3 is 69.55"
   ]
  },
  {
   "cell_type": "markdown",
   "metadata": {},
   "source": [
    "3.3 Rate of survival vs Class"
   ]
  },
  {
   "cell_type": "markdown",
   "metadata": {},
   "source": [
    "###### First class passengers had a higher rate of survival"
   ]
  },
  {
   "cell_type": "markdown",
   "metadata": {},
   "source": [
    "3.4 Rate of survival vs gender"
   ]
  },
  {
   "cell_type": "markdown",
   "metadata": {},
   "source": [
    "###### Obvious correlation between survival and gender"
   ]
  },
  {
   "cell_type": "code",
   "execution_count": 11,
   "metadata": {},
   "outputs": [
    {
     "data": {
      "text/plain": [
       "0      1\n",
       "1      0\n",
       "2      0\n",
       "3      0\n",
       "4      1\n",
       "      ..\n",
       "886    1\n",
       "887    0\n",
       "888    0\n",
       "889    1\n",
       "890    1\n",
       "Name: Sex, Length: 891, dtype: int64"
      ]
     },
     "execution_count": 11,
     "metadata": {},
     "output_type": "execute_result"
    }
   ],
   "source": [
    "train_ad['Sex'].replace('female',0,inplace=True)\n",
    "train_ad['Sex'].replace('male',1 ,inplace=True)\n",
    "train_ad['Sex']"
   ]
  },
  {
   "cell_type": "markdown",
   "metadata": {},
   "source": [
    "### 3. Linear regression"
   ]
  },
  {
   "cell_type": "code",
   "execution_count": 12,
   "metadata": {},
   "outputs": [
    {
     "name": "stdout",
     "output_type": "stream",
     "text": [
      "The predictive score of this model is -0.000998078298130034\n"
     ]
    }
   ],
   "source": [
    "x = train_ad.iloc[:,[5]].values #Using sex for predictive modeling\n",
    "\n",
    "y=train_ad.iloc[:,1].values\n",
    "X_train, X_test, y_train, y_test = train_test_split(x, y, test_size=0.25, random_state=2)\n",
    "\n",
    "\n",
    "logreg=LinearRegression()\n",
    "logreg.fit(X_train,y_train)\n",
    "y_pred = logreg.predict(X_test)\n",
    "# accuracy_score(y_pred,y_test)\n",
    "print('The predictive score of this model is',logreg.score(X_test,y_test))"
   ]
  },
  {
   "cell_type": "markdown",
   "metadata": {},
   "source": [
    "### 4. Logistic regression"
   ]
  },
  {
   "cell_type": "code",
   "execution_count": 13,
   "metadata": {},
   "outputs": [
    {
     "name": "stdout",
     "output_type": "stream",
     "text": [
      "<class 'pandas.core.frame.DataFrame'>\n",
      "RangeIndex: 891 entries, 0 to 890\n",
      "Data columns (total 11 columns):\n",
      " #   Column       Non-Null Count  Dtype  \n",
      "---  ------       --------------  -----  \n",
      " 0   PassengerId  891 non-null    int64  \n",
      " 1   Survived     891 non-null    int64  \n",
      " 2   Pclass       891 non-null    int64  \n",
      " 3   Name         891 non-null    object \n",
      " 4   Sex          891 non-null    int64  \n",
      " 5   Age          891 non-null    float64\n",
      " 6   SibSp        891 non-null    int64  \n",
      " 7   Parch        891 non-null    int64  \n",
      " 8   Ticket       891 non-null    object \n",
      " 9   Fare         891 non-null    float64\n",
      " 10  Embarked     891 non-null    object \n",
      "dtypes: float64(2), int64(6), object(3)\n",
      "memory usage: 76.7+ KB\n"
     ]
    }
   ],
   "source": [
    "train_ad.info()"
   ]
  },
  {
   "cell_type": "code",
   "execution_count": 14,
   "metadata": {},
   "outputs": [
    {
     "name": "stdout",
     "output_type": "stream",
     "text": [
      "The predictive score of this model is 0.6158445440956651\n"
     ]
    }
   ],
   "source": [
    "\n",
    "X = train_ad.iloc[:,[2,4,5]].values #Using Pclass, sex, age for predictive modeling\n",
    "\n",
    "y=train_ad.iloc[:,1].values\n",
    "X_train, X_test, y_train, y_test = train_test_split(x, y, test_size=0.75, random_state=2)\n",
    "\n",
    "logreg=LogisticRegression()\n",
    "logreg.fit(X_train,y_train)\n",
    "y_pred = logreg.predict(X_test)\n",
    "# accuracy_score(y_pred,y_test)\n",
    "print('The predictive score of this model is',logreg.score(X_test,y_test))\n",
    "\n"
   ]
  },
  {
   "cell_type": "code",
   "execution_count": 15,
   "metadata": {},
   "outputs": [
    {
     "name": "stdout",
     "output_type": "stream",
     "text": [
      "AUC: 0.500000\n",
      "F score: 0.000000\n"
     ]
    },
    {
     "data": {
      "image/png": "[encoded data removed]",
      "text/plain": [
       "<Figure size 432x288 with 1 Axes>"
      ]
     },
     "metadata": {
      "needs_background": "light"
     },
     "output_type": "display_data"
    }
   ],
   "source": [
    "auc = roc_auc_score(y_test,y_pred)\n",
    "print('AUC: %f' %auc)\n",
    "\n",
    "fpr, tpr = roc_curve(y_test,y_pred)[0:2]\n",
    "\n",
    "plt.plot(fpr, tpr, color='orange', label='ROC')\n",
    "plt.plot([1,0],[0,1], color='darkblue', linestyle='--')\n",
    "plt.xlabel('False Positive Rate')\n",
    "plt.ylabel('True Positive Rate')\n",
    "plt.title('Receiver Operating Characteristic (ROC) Curve')\n",
    "fscore=f1_score(y_test,y_pred)\n",
    "print('F score: %f' %fscore)\n",
    "plt.legend()\n",
    "plt.show()"
   ]
  }
 ],
 "metadata": {
  "kernelspec": {
   "display_name": "Python 3.10.6 64-bit (windows store)",
   "language": "python",
   "name": "python3"
  },
  "language_info": {
   "codemirror_mode": {
    "name": "ipython",
    "version": 3
   },
   "file_extension": ".py",
   "mimetype": "text/x-python",
   "name": "python",
   "nbconvert_exporter": "python",
   "pygments_lexer": "ipython3",
   "version": "3.10.6"
  },
  "orig_nbformat": 4,
  "vscode": {
   "interpreter": {
    "hash": "e0d398e7c3cc3d2b8386dfea47f5eae3378d5d39db7e2c8ef87e93246db0bfd2"
   }
  }
 },
 "nbformat": 4,
 "nbformat_minor": 2
}
